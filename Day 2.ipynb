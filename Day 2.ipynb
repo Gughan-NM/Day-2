{
 "cells": [
  {
   "cell_type": "markdown",
   "metadata": {},
   "source": [
    "# Day 2/366\n",
    "\n",
    "### 1a. Find if a given 2D-point is inside (or) outside (or) On a circle.\n",
    "\n",
    "#### Sol: -) For a circle, we need radius and center to draw. Get Cx,Cy,and r from the user.\n",
    "####    -) Get the Data point,Px and Py from the user\n",
    "####    -) Then, we can use distance formula ((Cx-Px)^2+(Cy-Py)^2)^(1/2))<r.\n",
    "####    -) If the result is less than r, then the point is inside the circle. Else, the point is outside"
   ]
  },
  {
   "cell_type": "code",
   "execution_count": 13,
   "metadata": {},
   "outputs": [
    {
     "name": "stdout",
     "output_type": "stream",
     "text": [
      "Enter Cx,Cy,r: 0 0 5\n",
      "Enter Px and Py: 1 1\n",
      "P is Inside the circle\n"
     ]
    }
   ],
   "source": [
    "import numpy as np\n",
    "import math as m\n",
    "\n",
    "Cx,Cy,r = map(float,input('Enter Cx,Cy,r: ').split())\n",
    "Px,Py = map(float,input('Enter Px and Py: ').split())\n",
    "\n",
    "d=m.sqrt((Cx-Px)**2+(Cy-Py)**2)\n",
    "if d<r :\n",
    "    print('P is Inside the circle')\n",
    "elif d==r:\n",
    "    print('P is On the circle')\n",
    "else:\n",
    "    print('P is Outside the circle')"
   ]
  },
  {
   "cell_type": "markdown",
   "metadata": {},
   "source": [
    "### 1b. Find if a given 2D-point is inside (or) outside a rectangle.\n",
    "\n",
    "#### Sol: -) For a rectangle we need any two diagonal point. Let Tx,Ty be the top point and Bx,By be the bottom point\n",
    "####    -) Get the Data point,Px and Py from the user\n",
    "####    -) Then, we can compare the diagonal points with the data point as,\n",
    "####    if Tx>Px and Bx<Px:\n",
    "####        if Ty>Py and By<Py:\n",
    "####            The given point is inside the rectangle\n",
    "####    else: outside"
   ]
  },
  {
   "cell_type": "code",
   "execution_count": 26,
   "metadata": {},
   "outputs": [
    {
     "name": "stdout",
     "output_type": "stream",
     "text": [
      "Enter the values for 'Tx','Ty','Bx','By'-3 5 6 -2\n",
      "Enter Px and Py: 0 0\n",
      "Point P is inside the rectange\n"
     ]
    }
   ],
   "source": [
    "import numpy as np\n",
    "import math as m\n",
    "\n",
    "Tx,Ty,Bx,By=map(float,input(\"Enter the values for 'Tx','Ty','Bx','By'\").split())\n",
    "Px,Py = map(float,input('Enter Px and Py: ').split())\n",
    "\n",
    "if Px>Tx and Px<Bx and Py<Ty and Py>By:\n",
    "    print('Point P is inside the rectange')\n",
    "else:\n",
    "    print('Point P is outside the rectangle')"
   ]
  },
  {
   "cell_type": "code",
   "execution_count": null,
   "metadata": {},
   "outputs": [],
   "source": []
  }
 ],
 "metadata": {
  "kernelspec": {
   "display_name": "Python 3",
   "language": "python",
   "name": "python3"
  },
  "language_info": {
   "codemirror_mode": {
    "name": "ipython",
    "version": 3
   },
   "file_extension": ".py",
   "mimetype": "text/x-python",
   "name": "python",
   "nbconvert_exporter": "python",
   "pygments_lexer": "ipython3",
   "version": "3.6.5"
  }
 },
 "nbformat": 4,
 "nbformat_minor": 2
}
